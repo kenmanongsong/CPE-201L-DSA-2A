{
  "nbformat": 4,
  "nbformat_minor": 0,
  "metadata": {
    "colab": {
      "provenance": [],
      "authorship_tag": "ABX9TyOWZkBU707hn7WC32KXl7RH",
      "include_colab_link": true
    },
    "kernelspec": {
      "name": "python3",
      "display_name": "Python 3"
    },
    "language_info": {
      "name": "python"
    }
  },
  "cells": [
    {
      "cell_type": "markdown",
      "metadata": {
        "id": "view-in-github",
        "colab_type": "text"
      },
      "source": [
        "<a href=\"https://colab.research.google.com/github/kenmanongsong/CPE-201L-DSA-2A/blob/main/sikill_test_source_code.ipynb\" target=\"_parent\"><img src=\"https://colab.research.google.com/assets/colab-badge.svg\" alt=\"Open In Colab\"/></a>"
      ]
    },
    {
      "cell_type": "code",
      "execution_count": 1,
      "metadata": {
        "colab": {
          "base_uri": "https://localhost:8080/"
        },
        "id": "Ri4UQ_2dVVWH",
        "outputId": "241a19cb-bed5-42a1-e7bf-dfef5ffb7b01"
      },
      "outputs": [
        {
          "output_type": "stream",
          "name": "stdout",
          "text": [
            "\n",
            "My name is\n",
            "KEN MANONGSONG\n"
          ]
        }
      ],
      "source": [
        "class Node:\n",
        "    def __init__(self, data):\n",
        "        self.data = data\n",
        "        self.next_node = None\n",
        "\n",
        "class LinkedList:\n",
        "    def __init__(self):\n",
        "        self.head = None\n",
        "\n",
        "    def add_node(self, data):\n",
        "        new_node = Node(data)\n",
        "        new_node.next_node = self.head\n",
        "        self.head = new_node\n",
        "\n",
        "    def print_list(self):\n",
        "        current_node = self.head\n",
        "        while current_node:\n",
        "            print(current_node.data, end='')\n",
        "            current_node = current_node.next_node\n",
        "        print()\n",
        "\n",
        "if __name__ == '__main__':\n",
        "    name = LinkedList()\n",
        "    name.add_node('G')\n",
        "    name.add_node('N')\n",
        "    name.add_node('O')\n",
        "    name.add_node('S')\n",
        "    name.add_node('G')\n",
        "    name.add_node('N')\n",
        "    name.add_node('O')\n",
        "    name.add_node('N')\n",
        "    name.add_node('A')\n",
        "    name.add_node('M')\n",
        "    name.add_node(' ')\n",
        "    name.add_node('N')\n",
        "    name.add_node('E')\n",
        "    name.add_node('K')\n",
        "\n",
        "    print(\"\\nMy name is\")\n",
        "    name.print_list()\n"
      ]
    }
  ]
}