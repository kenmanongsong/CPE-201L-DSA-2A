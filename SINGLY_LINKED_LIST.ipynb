{
  "nbformat": 4,
  "nbformat_minor": 0,
  "metadata": {
    "colab": {
      "provenance": [],
      "authorship_tag": "ABX9TyPjne+yCeSyNKwIDxGfatWL",
      "include_colab_link": true
    },
    "kernelspec": {
      "name": "python3",
      "display_name": "Python 3"
    },
    "language_info": {
      "name": "python"
    }
  },
  "cells": [
    {
      "cell_type": "markdown",
      "metadata": {
        "id": "view-in-github",
        "colab_type": "text"
      },
      "source": [
        "<a href=\"https://colab.research.google.com/github/kenmanongsong/CPE-201L-DSA-2A/blob/main/SINGLY_LINKED_LIST.ipynb\" target=\"_parent\"><img src=\"https://colab.research.google.com/assets/colab-badge.svg\" alt=\"Open In Colab\"/></a>"
      ]
    },
    {
      "cell_type": "code",
      "execution_count": 2,
      "metadata": {
        "colab": {
          "base_uri": "https://localhost:8080/"
        },
        "id": "lDlqHuRGiRht",
        "outputId": "c1b4cfa2-0dc8-451c-bcb4-eaca4c2042f8"
      },
      "outputs": [
        {
          "output_type": "stream",
          "name": "stdout",
          "text": [
            "\n",
            "Prime numbers list:\n",
            "19 17 15 13 11 9 7 5 3 2  \n",
            "\n",
            "Head: 19\n",
            "Tail: 2\n"
          ]
        }
      ],
      "source": [
        "class Node:\n",
        "    def __init__(self, data):\n",
        "        self.data = data\n",
        "        self.next_node = None\n",
        "\n",
        "class SinglyLinkedList:\n",
        "    def __init__(self):\n",
        "        self.head = None\n",
        "\n",
        "    def add_node(self, data):\n",
        "        new_node = Node(data)\n",
        "        new_node.next_node = self.head\n",
        "        self.head = new_node\n",
        "\n",
        "    def print_list(self):\n",
        "        current_node = self.head\n",
        "        while current_node:\n",
        "            print(current_node.data, end=\" \")\n",
        "            current_node = current_node.next_node\n",
        "        print(\" \")\n",
        "\n",
        "    def print_head_and_tail(self):\n",
        "\n",
        "        if self.head is None:\n",
        "            print(\"The list is empty.\")\n",
        "            return\n",
        "\n",
        "        print(f\"\\nHead: {self.head.data}\")\n",
        "\n",
        "        current_node = self.head\n",
        "        while current_node.next_node:\n",
        "            current_node = current_node.next_node\n",
        "\n",
        "        print(f\"Tail: {current_node.data}\")\n",
        "\n",
        "if __name__ == \"__main__\":\n",
        "    prime_list = SinglyLinkedList()\n",
        "    prime_list.add_node(2)\n",
        "    prime_list.add_node(3)\n",
        "    prime_list.add_node(5)\n",
        "    prime_list.add_node(7)\n",
        "    prime_list.add_node(9)\n",
        "    prime_list.add_node(11)\n",
        "    prime_list.add_node(13)\n",
        "    prime_list.add_node(15)\n",
        "    prime_list.add_node(17)\n",
        "    prime_list.add_node(19)\n",
        "\n",
        "    print(\"\\nPrime numbers list:\")\n",
        "    prime_list.print_list()\n",
        "    prime_list.print_head_and_tail()"
      ]
    }
  ]
}