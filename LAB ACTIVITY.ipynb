{
  "nbformat": 4,
  "nbformat_minor": 0,
  "metadata": {
    "colab": {
      "provenance": [],
      "authorship_tag": "ABX9TyPm2a8FV889bW3vGMayrcBH",
      "include_colab_link": true
    },
    "kernelspec": {
      "name": "python3",
      "display_name": "Python 3"
    },
    "language_info": {
      "name": "python"
    }
  },
  "cells": [
    {
      "cell_type": "markdown",
      "metadata": {
        "id": "view-in-github",
        "colab_type": "text"
      },
      "source": [
        "<a href=\"https://colab.research.google.com/github/kenmanongsong/CPE-201L-DSA-2A/blob/main/LAB%20ACTIVITY.ipynb\" target=\"_parent\"><img src=\"https://colab.research.google.com/assets/colab-badge.svg\" alt=\"Open In Colab\"/></a>"
      ]
    },
    {
      "cell_type": "markdown",
      "source": [
        "#TRAVERSING ARRAY"
      ],
      "metadata": {
        "id": "44qzRwJL9TGW"
      }
    },
    {
      "cell_type": "code",
      "execution_count": 25,
      "metadata": {
        "colab": {
          "base_uri": "https://localhost:8080/"
        },
        "id": "Zr-lh1YiZk6f",
        "outputId": "f51bf009-e5e2-44d3-b9a9-4bb38fe4da0a"
      },
      "outputs": [
        {
          "output_type": "stream",
          "name": "stdout",
          "text": [
            "Original array: [2, 15, 32, 7, 50]\n",
            "\n",
            "Menu:\n",
            "1. Traverse array\n",
            "2. Reverse array\n",
            "3. Alternate array\n",
            "4. Sort array\n",
            "5. Exit\n",
            "Enter your choice (1-4): 1\n",
            "Traversing the array:\n",
            "Index 0: 2\n",
            "Index 1: 15\n",
            "Index 2: 32\n",
            "Index 3: 7\n",
            "Index 4: 50\n",
            "\n",
            "Menu:\n",
            "1. Traverse array\n",
            "2. Reverse array\n",
            "3. Alternate array\n",
            "4. Sort array\n",
            "5. Exit\n",
            "Enter your choice (1-4): 2\n",
            "Reversing the array:\n",
            "Index 0: 50\n",
            "Index 1: 7\n",
            "Index 2: 32\n",
            "Index 3: 15\n",
            "Index 4: 2\n",
            "\n",
            "Menu:\n",
            "1. Traverse array\n",
            "2. Reverse array\n",
            "3. Alternate array\n",
            "4. Sort array\n",
            "5. Exit\n",
            "Enter your choice (1-4): 3\n",
            "Alternating the array:\n",
            "Index 0: 2\n",
            "Index 1: 32\n",
            "Index 2: 50\n",
            "\n",
            "Menu:\n",
            "1. Traverse array\n",
            "2. Reverse array\n",
            "3. Alternate array\n",
            "4. Sort array\n",
            "5. Exit\n",
            "Enter your choice (1-4): 4\n",
            "Sorting the array:\n",
            "Traversing the array:\n",
            "Index 0: 2\n",
            "Index 1: 7\n",
            "Index 2: 15\n",
            "Index 3: 32\n",
            "Index 4: 50\n",
            "\n",
            "Menu:\n",
            "1. Traverse array\n",
            "2. Reverse array\n",
            "3. Alternate array\n",
            "4. Sort array\n",
            "5. Exit\n",
            "Enter your choice (1-4): 5\n",
            "Exiting the program. Goodbye!\n"
          ]
        }
      ],
      "source": [
        "def traverse_array(arr):\n",
        "    print(\"Traversing the array:\")\n",
        "    for i, element in enumerate(arr):\n",
        "        print(f\"Index {i}: {element}\")\n",
        "\n",
        "def reverse_array(arr):\n",
        "    print(\"Reversing the array:\")\n",
        "    for i, element in enumerate(arr[::-1]):\n",
        "        print(f\"Index {i}: {element}\")\n",
        "\n",
        "def alternate_array(arr):\n",
        "    print(\"Alternating the array:\")\n",
        "    for i, element in enumerate(arr[::2]):\n",
        "        print(f\"Index {i}: {element}\")\n",
        "\n",
        "def sort_array(arr):\n",
        "    print(\"Sorting the array:\")\n",
        "    sorted_arr = sorted(arr)\n",
        "    traverse_array(sorted_arr)\n",
        "\n",
        "def main():\n",
        "    arr = [2, 15, 32, 7, 50]\n",
        "    print(\"Original array:\", arr)\n",
        "\n",
        "    while True:\n",
        "        print(\"\\nMenu:\")\n",
        "        print(\"1. Traverse array\")\n",
        "        print(\"2. Reverse array\")\n",
        "        print(\"3. Alternate array\")\n",
        "        print(\"4. Sort array\")\n",
        "        print(\"5. Exit\")\n",
        "        choice = input(\"Enter your choice (1-4): \")\n",
        "\n",
        "        if choice == '1':\n",
        "            traverse_array(arr)\n",
        "        elif choice == '2':\n",
        "            reverse_array(arr)\n",
        "        elif choice == '3':\n",
        "            alternate_array(arr)\n",
        "        elif choice == '4':\n",
        "            sort_array(arr)\n",
        "        elif choice == '5':\n",
        "            print(\"Exiting the program. Goodbye!\")\n",
        "            break\n",
        "        else:\n",
        "            print(\"Invalid choice. Please enter a number between 1 and 4.\")\n",
        "\n",
        "if __name__ == \"__main__\":\n",
        "    main()\n"
      ]
    },
    {
      "cell_type": "markdown",
      "source": [
        "#LABORATORY ACTIVITY 4"
      ],
      "metadata": {
        "id": "t94kjoXw9LgU"
      }
    },
    {
      "cell_type": "code",
      "source": [
        "class GroceryItem:\n",
        "\n",
        "    def __init__(self, name: str, price: float, quantity: int):\n",
        "        self.name = name\n",
        "        self.price = price\n",
        "        self.quantity = quantity\n",
        "\n",
        "    def calculate_sum(self) -> float:\n",
        "        return self.price * self.quantity\n",
        "\n",
        "    def __str__(self) -> str:\n",
        "        return f\"Item: {self.name}, Price: PHP {self.price:.2f}, Quantity: {self.quantity}\"\n",
        "\n",
        "class Fruit(GroceryItem):\n",
        "    def __init__(self, name: str, price: float, quantity: int):\n",
        "        super().__init__(name, price, quantity)\n",
        "\n",
        "class Vegetable(GroceryItem):\n",
        "    def __init__(self, name: str, price: float, quantity: int):\n",
        "        super().__init__(name, price, quantity)\n",
        "\n",
        "def main():\n",
        "    grocery_list = [\n",
        "        Fruit(\"Apple\", 10, 7),\n",
        "        Fruit(\"Banana\", 10, 8),\n",
        "        Vegetable(\"Broccoli\", 60, 12),\n",
        "        Vegetable(\"Lettuce\", 50, 10)\n",
        "    ]\n",
        "\n",
        "    print(\"---Jenna's Initial Grocery List---\")\n",
        "    for item in grocery_list:\n",
        "        print(item)\n",
        "\n",
        "    def total_sum(items: list[GroceryItem]) -> float:\n",
        "\n",
        "        total = 0.0\n",
        "        for item in items:\n",
        "            total += item.calculate_sum()\n",
        "        return total\n",
        "\n",
        "    total_cost = total_sum(grocery_list)\n",
        "    print(f\"\\n-----Total Sum of all items: PHP {total_cost:.2f}-----\")\n",
        "\n",
        "    index_to_remove = -1\n",
        "    for i, item in enumerate(grocery_list):\n",
        "        if item.name == \"Lettuce\":\n",
        "            index_to_remove = i\n",
        "            break\n",
        "\n",
        "    if index_to_remove != -1:\n",
        "        removed_item = grocery_list.pop(index_to_remove)\n",
        "        print(f\"\\nRemoved '{removed_item.name}' from the grocery list.\")\n",
        "    else:\n",
        "        print(\"\\n'Lettuce' not found in the list.\")\n",
        "\n",
        "    print(\"\\n--- Jenna's Final Grocery List ---\")\n",
        "    for item in grocery_list:\n",
        "        print(item)\n",
        "\n",
        "    final_total_cost = total_sum(grocery_list)\n",
        "    print(f\"\\n-----Final Sum of items: PHP {final_total_cost:.2f}-----\")\n",
        "\n",
        "if __name__ == \"__main__\":\n",
        "    main()\n",
        "\n"
      ],
      "metadata": {
        "colab": {
          "base_uri": "https://localhost:8080/"
        },
        "id": "Cr_umwlw9JQM",
        "outputId": "310e5d58-eb1a-4abb-ce6f-cef7f529bc29"
      },
      "execution_count": 26,
      "outputs": [
        {
          "output_type": "stream",
          "name": "stdout",
          "text": [
            "---Jenna's Initial Grocery List---\n",
            "Item: Apple, Price: PHP 10.00, Quantity: 7\n",
            "Item: Banana, Price: PHP 10.00, Quantity: 8\n",
            "Item: Broccoli, Price: PHP 60.00, Quantity: 12\n",
            "Item: Lettuce, Price: PHP 50.00, Quantity: 10\n",
            "\n",
            "-----Total Sum of all items: PHP 1370.00-----\n",
            "\n",
            "Removed 'Lettuce' from the grocery list.\n",
            "\n",
            "--- Jenna's Final Grocery List ---\n",
            "Item: Apple, Price: PHP 10.00, Quantity: 7\n",
            "Item: Banana, Price: PHP 10.00, Quantity: 8\n",
            "Item: Broccoli, Price: PHP 60.00, Quantity: 12\n",
            "\n",
            "-----Final Sum of items: PHP 870.00-----\n"
          ]
        }
      ]
    }
  ]
}